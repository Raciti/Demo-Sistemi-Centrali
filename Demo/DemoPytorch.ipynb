{
 "cells": [
  {
   "cell_type": "markdown",
   "id": "1d6fa972",
   "metadata": {},
   "source": [
    "In questo esempio si utilizzerà il dataset pubblico CIFAR 10"
   ]
  },
  {
   "cell_type": "markdown",
   "id": "b42b1590",
   "metadata": {},
   "source": [
    "## Requisiti/Prerequisiti \n",
    "\n",
    "- Un account Azure con abbonamento attivo\n",
    "- Azure Machine Learning workspace \n",
    "- Python Environment\n",
    "- Installazione di Azure ML Python SDK Version 2"
   ]
  },
  {
   "cell_type": "markdown",
   "id": "0994acb7",
   "metadata": {},
   "source": [
    "## Learning \n",
    "- Connettersi all'area di lavoro utilizzando Python SDK v2\n",
    "- Impostazione del comando per scaricare i dati da un URL Web all'archiviazione BLOB dell'area di lavoro AML eseguendo un processo.\n",
    "- Utilizzare questi dati memorizzati nell'archiviazione BLOB dell'area di lavoro AML come input per il comando train job.\n",
    "- Formazione distribuita del modello Pytorch."
   ]
  },
  {
   "cell_type": "markdown",
   "id": "429f5e87",
   "metadata": {},
   "source": [
    "# 1. Connettersi ad Azure Machine Learning Workspace\n",
    "\n",
    "## 1.1 Importare le librerie necessarie\n"
   ]
  },
  {
   "cell_type": "code",
   "execution_count": null,
   "id": "54870c3f",
   "metadata": {},
   "outputs": [],
   "source": [
    "from azure.identity import DefaultAzureCredential, InteractiveBrowserCredential\n",
    "\n",
    "from azure.ai.ml import MLClient, Input\n",
    "from azure.ai.ml.dsl import pipeline\n",
    "from azure.ai.ml import load_component"
   ]
  },
  {
   "cell_type": "markdown",
   "id": "0fd4983c",
   "metadata": {},
   "source": [
    "## 1.2 Connettersi al worspace usando le credenziali di Default di Azure\n",
    "\n",
    "Le credenziali di Azure permettono di gestire la maggior parte delle autenticazioni"
   ]
  },
  {
   "cell_type": "code",
   "execution_count": null,
   "id": "b87ad96a",
   "metadata": {},
   "outputs": [],
   "source": [
    "credential = DefaultAzureCredential()\n",
    "ml_client = None\n",
    "try:\n",
    "    ml_client = MLClient.from_config(credential)\n",
    "except Exception as ex:\n",
    "    print(ex)\n",
    "    subscription_id = \"<SUBSCRIPTION_ID>\"\n",
    "    resource_group = \"<RESOURCE_GROUP>\"\n",
    "    workspace = \"<AML_WORKSPACE_NAME>\"\n",
    "    ml_client = MLClient(credential, subscription_id, resource_group, workspace)"
   ]
  },
  {
   "cell_type": "markdown",
   "id": "45b61339",
   "metadata": {},
   "source": [
    "## 1.3 Gestisci l'area di lavoro e recuperando il cluster di calcolo allegato\n"
   ]
  },
  {
   "cell_type": "code",
   "execution_count": null,
   "id": "b073668f",
   "metadata": {},
   "outputs": [],
   "source": [
    "cluster_name = \"cpu-cluster\""
   ]
  },
  {
   "cell_type": "code",
   "execution_count": null,
   "id": "41cb6c8b",
   "metadata": {},
   "outputs": [],
   "source": [
    "ml_client.workspace_name"
   ]
  },
  {
   "cell_type": "code",
   "execution_count": null,
   "id": "b05975e9",
   "metadata": {},
   "outputs": [],
   "source": [
    "workspace = ml_client.workspace_name\n",
    "subscription_id = ml_client.workspaces.get(workspace).id.split(\"/\")[2]\n",
    "resource_group = ml_client.workspaces.get(workspace).resource_group"
   ]
  },
  {
   "cell_type": "markdown",
   "id": "becf76f3",
   "metadata": {},
   "source": [
    "# 2. Comandi di Configurazione e Esecuzione "
   ]
  },
  {
   "cell_type": "markdown",
   "id": "64496b81",
   "metadata": {},
   "source": [
    "In questa sezione configureremo ed eseguiremo due lavori autonomi.\n",
    "- **Comando** per leggere e scrivere dati\n",
    "- **Comando** per il lavoro di formazione distribuito.\n",
    "\n",
    "Il comando consente all'utente di configurare i seguenti aspetti chiave.\n",
    "- **code** - Questo è il percorso in cui si trova il codice per eseguire il comando\n",
    "- **comando** - Questo saràl comando eseguito\n",
    "- **inputs** - Questo è il dizionario degli input che utilizza coppie di valori di nome e comando. La chiave è un nome per l'input nel contesto del processo e il valore è il valore di input. Gli input possono essere referenziati nel comando utilizzando l'espressione **\\${{inputs.<input_name>}}** . Per usare file o cartelle come input, possiamo usare la classe Input. La classe Input supporta tre parametri:\n",
    "    - **type** - Il tipo di input. Questo può essere un uri_file o uri_folder. Il valore predefinito è uri_folder.\n",
    "    - **path** - Il percorso del file o della cartella. Questi possono essere file o cartelle locali o remoti. Per i file remoti Azure supporta - http/https, wasb \n",
    "        - I **dati/dataset** o **l'archivio dati** di Azure ML sono di tipo uri_folder. Per utilizzare i dati/dataset come input, è possibile utilizzare il dataset registrato nell'area di lavoro utilizzando il formato '<nome_data>:'. Ad esempio Input(type='uri_folder', path='my_dataset:1')\n",
    "    - **mode** - Modalità di come i dati devono essere consegnati alla destinazione di calcolo. I valori consentiti sono ro_mount, rw_mount e download. Il valore predefinito è ro_mount\n",
    "- **environment** - Indica l'ambiente dove sarà eseguito il comando. È possibile utilizzare ambienti curati o personalizzati dall'area di lavoro. Oppure può essere creato e utilizzato anche un ambiente personalizzato.\n",
    "- **compute** - Il calcolo su cui verrà eseguito il comando. In questo esempio viene utilizzato un calcolo chiamato **cpu-cluster** presente nell'area di lavoro. È possibile sostituirlo in qualsiasi altro calcolo nell'area di lavoro. Lo si può eseguire sulla macchina **locale** usando **local** per il calcolo. Questo eseguirà il comando sul computer locale e tutti i dettagli di esecuzione e l'output del processo verranno caricati nell'area di lavoro di Azure ML.\n",
    "- **distribution** - Configurazione di distribuzione per scenari di formazione distribuiti. Azure Machine Learning supporta PyTorch, TensorFlow e distribuito basato su MPI."
   ]
  },
  {
   "cell_type": "markdown",
   "id": "c8f2f92f",
   "metadata": {},
   "source": [
    "## 2.1 Configurazione dei comandi per la Lettura e la Scrittura dei dati\n",
    "\n",
    "Il set di dati CIFAR 10, un file compresso, viene scaricato da un URL pubblico. Il codice **read_write_data.py** che si trova nella cartella **src** esegue l'estrazione dei file utilizzando la **libreria tarfile**."
   ]
  },
  {
   "cell_type": "code",
   "execution_count": null,
   "id": "423c3e06",
   "metadata": {},
   "outputs": [],
   "source": [
    "from azure.ai.ml import command\n",
    "from azure.ai.ml.entities import Data\n",
    "from azure.ai.ml import Input\n",
    "from azure.ai.ml import Output\n",
    "from azure.ai.ml.constants import AssetTypes\n",
    "\n",
    "\n",
    "inputs = {\n",
    "    \"cifar_zip\": Input(\n",
    "        type=AssetTypes.URI_FILE,\n",
    "        path=\"https://www.cs.toronto.edu/~kriz/cifar-10-python.tar.gz\",\n",
    "    ),\n",
    "}\n",
    "\n",
    "outputs = {\n",
    "    \"cifar\": Output(\n",
    "        type=AssetTypes.URI_FOLDER,\n",
    "        path=f\"azureml://subscriptions/{subscription_id}/resourcegroups/{resource_group}/workspaces/{workspace}/datastores/workspaceblobstore/paths/CIFAR-10\",\n",
    "    )\n",
    "}\n",
    "\n",
    "job = command(\n",
    "    code=\"./src\",  \n",
    "    command=\"python read_write_data.py --input_data ${{inputs.cifar_zip}} --output_folder ${{outputs.cifar}}\",\n",
    "    inputs=inputs,\n",
    "    outputs=outputs,\n",
    "    environment=\"AzureML-sklearn-1.0-ubuntu20.04-py38-cpu:1\",\n",
    "    compute=\"cpu-cluster\",\n",
    ")\n",
    "\n",
    "returned_job = ml_client.jobs.create_or_update(job)\n",
    "returned_job.studio_url"
   ]
  },
  {
   "cell_type": "code",
   "execution_count": null,
   "id": "ae6fde76",
   "metadata": {},
   "outputs": [],
   "source": [
    "ml_client.jobs.stream(returned_job.name)"
   ]
  },
  {
   "cell_type": "code",
   "execution_count": null,
   "id": "9643d8f5",
   "metadata": {},
   "outputs": [],
   "source": [
    "print(returned_job.name)\n",
    "print(returned_job.experiment_name)\n",
    "print(returned_job.outputs.cifar)\n",
    "print(returned_job.outputs.cifar.path)"
   ]
  },
  {
   "cell_type": "markdown",
   "id": "b2f23fcb",
   "metadata": {},
   "source": [
    "## 2.2 Configurazioni dei comandi per il Training Distribuito utilizzando Pytorch"
   ]
  },
  {
   "cell_type": "code",
   "execution_count": null,
   "id": "ba8b15fc",
   "metadata": {},
   "outputs": [],
   "source": [
    "from azure.ai.ml import command\n",
    "from azure.ai.ml.entities import Data\n",
    "from azure.ai.ml import Input\n",
    "from azure.ai.ml import Output\n",
    "from azure.ai.ml.constants import AssetTypes\n",
    "\n",
    "inputs = {\n",
    "    \"cifar\": Input(\n",
    "        type=AssetTypes.URI_FOLDER, path=returned_job.outputs.cifar.path\n",
    "    ),  \n",
    "    \"epoch\": 10,\n",
    "    \"batchsize\": 64,\n",
    "    \"workers\": 2,\n",
    "    \"lr\": 0.01,\n",
    "    \"momen\": 0.9,\n",
    "    \"prtfreq\": 200,\n",
    "    \"output\": \"./outputs\",\n",
    "}\n",
    "\n",
    "job = command(\n",
    "    code=\"./src\",  \n",
    "    command=\"python train.py --data-dir ${{inputs.cifar}} --epochs ${{inputs.epoch}} --batch-size ${{inputs.batchsize}} --workers ${{inputs.workers}} --learning-rate ${{inputs.lr}} --momentum ${{inputs.momen}} --print-freq ${{inputs.prtfreq}} --model-dir ${{inputs.output}}\",\n",
    "    inputs=inputs,\n",
    "    environment=\"azureml:AzureML-pytorch-1.9-ubuntu18.04-py37-cuda11-gpu:6\",\n",
    "    compute=\"gpu-cluster\",  \n",
    "    instance_count=2, \n",
    "    distribution={\n",
    "        \"type\": \"PyTorch\",\n",
    "        \"process_count_per_instance\": 1,\n",
    "    },\n",
    ")"
   ]
  },
  {
   "cell_type": "markdown",
   "id": "da00f0ce",
   "metadata": {},
   "source": [
    "# 3. Update del lavoro"
   ]
  },
  {
   "cell_type": "code",
   "execution_count": null,
   "id": "a303aa24",
   "metadata": {},
   "outputs": [],
   "source": [
    "ml_client.jobs.create_or_update(job)"
   ]
  }
 ],
 "metadata": {
  "kernelspec": {
   "display_name": "Python 3 (ipykernel)",
   "language": "python",
   "name": "python3"
  },
  "language_info": {
   "codemirror_mode": {
    "name": "ipython",
    "version": 3
   },
   "file_extension": ".py",
   "mimetype": "text/x-python",
   "name": "python",
   "nbconvert_exporter": "python",
   "pygments_lexer": "ipython3",
   "version": "3.8.8"
  }
 },
 "nbformat": 4,
 "nbformat_minor": 5
}
