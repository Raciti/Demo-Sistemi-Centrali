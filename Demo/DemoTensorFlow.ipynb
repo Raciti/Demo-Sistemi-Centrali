{
 "cells": [
  {
   "cell_type": "markdown",
   "id": "bd308f23",
   "metadata": {},
   "source": [
    "In questo esempio verrà utilizzato il dataset Horovod"
   ]
  },
  {
   "cell_type": "markdown",
   "id": "b7d70447",
   "metadata": {},
   "source": [
    "# Requisiti \n",
    "\n",
    "Per utilizzare questo tutorial, avrai bisogno di:\n",
    "* Un account Azure con una sottoscrizione attiva.\n",
    "* Un'area di lavoro Azure ML con cluster di computer.\n",
    "* Un enviroment python.\n",
    "* L'installazione di Azure Machine Learning Python SDK v2."
   ]
  },
  {
   "cell_type": "markdown",
   "id": "5882f5ee",
   "metadata": {},
   "source": [
    "# 1. Connessione ad Azure Machine Learning Workspace\n",
    "\n",
    "## 1.1 Importazione delle librerie necessarie\n"
   ]
  },
  {
   "cell_type": "code",
   "execution_count": null,
   "id": "100d6040",
   "metadata": {},
   "outputs": [],
   "source": [
    "from azure.ai.ml import MLClient\n",
    "from azure.ai.ml import command, MpiDistribution\n",
    "from azure.identity import DefaultAzureCredential"
   ]
  },
  {
   "cell_type": "markdown",
   "id": "db78de3a",
   "metadata": {},
   "source": [
    "## 1.2 Configurazione e Gestione del WorkSpace\n",
    "Per connettersi a un'area di lavoro, si necessita dei parametri identificativi: una sottoscrizione, un gruppo di risorse e un nome dell'area di lavoro. \n",
    "Utilizzeremo questi dettagli in **MLClient** da **azure.ai.ml** per ottenere una gestione dell'area di lavoro Azure Machine Learning richiesta.\n",
    "Per questo tutorial utilizzeremo l'autenticazione predefinita. "
   ]
  },
  {
   "cell_type": "code",
   "execution_count": null,
   "id": "b72d049a",
   "metadata": {},
   "outputs": [],
   "source": [
    "subscription_id = \"<SUBSCRIPTION_ID>\"\n",
    "resource_group = \"<RESOURCE_GROUP>\"\n",
    "workspace = \"<AML_WORKSPACE_NAME>\""
   ]
  },
  {
   "cell_type": "code",
   "execution_count": null,
   "id": "7d1bc214",
   "metadata": {},
   "outputs": [],
   "source": [
    "ml_client = MLClient(\n",
    "    DefaultAzureCredential(), subscription_id, resource_group, workspace\n",
    ")"
   ]
  },
  {
   "cell_type": "markdown",
   "id": "f32eafd3",
   "metadata": {},
   "source": [
    "# Configurazione ed Esecuzione dei Comandi\n",
    "\n",
    "## 2.1 Configurazione dei comandi\n",
    "\n",
    "**command** consente all'utente di configurare i seguenti aspetti chiave:\n",
    "* **code** - Questo è il percorso in cui si trova il codice per eseguire il comando.\n",
    "* **command** - Questo è il comando che deve essere eseguito. \n",
    "* **inputs** - Questo è il dizionario degli input che utilizzano le coppie di valori dei nomi per il comando. La chiave è un nome per l'input nel contesto del processo e il valore è il valore di input. Gli input possono essere referenziati nel comando utilizzando l'espressione ${{inputs.<input_name>}} . Per usare file o cartelle come input, possiamo usare la classe Input. La classe Input supporta tre parametri:\n",
    "    * **type** - Il tipo dell' input. Questo può essere un uri_file o uri_folder. Il valore predefinito è uri_folder.\n",
    "    * **path** - Percorso del file o della cartella. Questi possono essere file o cartelle locali o remoti. Per i file remoti  Azure supporta  http/https, wasb.\n",
    "        * I **dati/dataset** o **l'archivio dati** di Azure ML sono di tipo uri_folder. Per utilizzare i dati/dataset come input, è possibile utilizzare il dataset registrato nell'area di lavoro utilizzando il formato '<nome_data>:'. Ad esempio Input(type='uri_folder', path='my_dataset:1').\n",
    "    * **mode** - Modalità di come i dati devono essere consegnati alla destinazione di elaborazione. I valori consentiti sono ro_mount, rw_mount e download. Il valore predefinito è ro_mount.\n",
    "* **enviroment** - Questo è l'ambiente necessario per l'esecuzione del comando. È possibile utilizzare ambienti curati o personalizzati dall'area di lavoro. Oppure può essere creato e utilizzato anche un ambiente personalizzato.\n",
    "* **compute** - Il calcolo su cui verrà eseguito il comando. In questo esempio viene utilizzato un calcolo chiamato **cpu-cluster** presente nell'area di lavoro. È possibile sostituirlo in qualsiasi altro calcolo nell'area di lavoro. Lo si può eseguire sulla macchina locale usando **local** per il calcolo. Questo eseguirà il comando sul computer locale e tutti i dettagli di esecuzione e l'output del processo verranno caricati nell'area di lavoro di Azure ML.\n",
    "* **distribution** - Configurazione di distribuzione per scenari di formazione distribuiti. Azure Machine Learning supporta la formazione distribuita basata su PyTorch, TensorFlow e MPI. I valori consentiti sono **PyTorch**, **TensorFlow** e **MPI**.\n",
    "* **dispay_name** - Il nome del Display del lavoro.\n",
    "* **description** - La descrzione dell'esperimento.\n",
    "\n",
    "Nell'esempio seguente vedremo la distribuzione **MPI**."
   ]
  },
  {
   "cell_type": "code",
   "execution_count": null,
   "id": "a1a4fae6",
   "metadata": {},
   "outputs": [],
   "source": [
    "from azure.ai.ml import command, MpiDistribution\n",
    "\n",
    "job = command(\n",
    "    code=\"./src\",\n",
    "    command=\"python train.py --epochs ${{inputs.epochs}}\",\n",
    "    inputs={\"epochs\": 1},\n",
    "    environment=\"AzureML-tensorflow-2.7-ubuntu20.04-py38-cuda11-gpu@latest\",\n",
    "    compute=\"gpu-cluster\",\n",
    "    instance_count=2,\n",
    "    distribution=MpiDistribution(process_count_per_instance=2),\n",
    "    display_name=\"tensorflow-mnist-distributed-horovod-example\"\n",
    "   )"
   ]
  },
  {
   "cell_type": "markdown",
   "id": "d1620a4c",
   "metadata": {},
   "source": [
    "## 2.2 Esecuzione del comando \n",
    "\n",
    "Utilizzando il **MLClient** creato in precedenza, si potrà eseguire il comando come processo nell'area di lavoro."
   ]
  },
  {
   "cell_type": "code",
   "execution_count": null,
   "id": "624cee4f",
   "metadata": {},
   "outputs": [],
   "source": [
    "returned_job = ml_client.create_or_update(job)"
   ]
  }
 ],
 "metadata": {
  "kernelspec": {
   "display_name": "Python 3 (ipykernel)",
   "language": "python",
   "name": "python3"
  },
  "language_info": {
   "codemirror_mode": {
    "name": "ipython",
    "version": 3
   },
   "file_extension": ".py",
   "mimetype": "text/x-python",
   "name": "python",
   "nbconvert_exporter": "python",
   "pygments_lexer": "ipython3",
   "version": "3.8.8"
  }
 },
 "nbformat": 4,
 "nbformat_minor": 5
}
